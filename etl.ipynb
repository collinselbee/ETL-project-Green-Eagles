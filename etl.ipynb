{
 "metadata": {
  "language_info": {
   "codemirror_mode": {
    "name": "ipython",
    "version": 3
   },
   "file_extension": ".py",
   "mimetype": "text/x-python",
   "name": "python",
   "nbconvert_exporter": "python",
   "pygments_lexer": "ipython3",
   "version": "3.8.5-final"
  },
  "orig_nbformat": 2,
  "kernelspec": {
   "name": "python3",
   "display_name": "Python 3.8.5 64-bit (conda)",
   "metadata": {
    "interpreter": {
     "hash": "05906fb634268bda8792aa40248e648de9f5f715d813eba93f5793438b333358"
    }
   }
  }
 },
 "nbformat": 4,
 "nbformat_minor": 2,
 "cells": [
  {
   "cell_type": "code",
   "execution_count": 72,
   "metadata": {},
   "outputs": [],
   "source": [
    "import pandas as pd\n",
    "from sqlalchemy import create_engine\n",
    "import psycopg2"
   ]
  },
  {
   "cell_type": "code",
   "execution_count": 49,
   "metadata": {},
   "outputs": [
    {
     "output_type": "execute_result",
     "data": {
      "text/plain": [
       "                                                                                                                                                               <<<<<<< HEAD\n",
       "Reported Date Suburb - Incident Postcode - Incident Offence Level 1 Description Offence Level 2 Description          Offence Level 3 Description              Offence count\n",
       "1/07/2010     ADELAIDE          5000                OFFENCES AGAINST PROPERTY   FRAUD DECEPTION AND RELATED OFFENCES Obtain benefit by deception                          2\n",
       "                                                                                PROPERTY DAMAGE AND ENVIRONMENTAL    Other property damage and environmental              2\n",
       "                                                                                SERIOUS CRIMINAL TRESPASS            SCT - Non Residence                                  1\n",
       "                                                                                THEFT AND RELATED OFFENCES           Other theft                                          6"
      ],
      "text/html": "<div>\n<style scoped>\n    .dataframe tbody tr th:only-of-type {\n        vertical-align: middle;\n    }\n\n    .dataframe tbody tr th {\n        vertical-align: top;\n    }\n\n    .dataframe thead th {\n        text-align: right;\n    }\n</style>\n<table border=\"1\" class=\"dataframe\">\n  <thead>\n    <tr style=\"text-align: right;\">\n      <th></th>\n      <th></th>\n      <th></th>\n      <th></th>\n      <th></th>\n      <th></th>\n      <th>&lt;&lt;&lt;&lt;&lt;&lt;&lt; HEAD</th>\n    </tr>\n  </thead>\n  <tbody>\n    <tr>\n      <th>Reported Date</th>\n      <th>Suburb - Incident</th>\n      <th>Postcode - Incident</th>\n      <th>Offence Level 1 Description</th>\n      <th>Offence Level 2 Description</th>\n      <th>Offence Level 3 Description</th>\n      <td>Offence count</td>\n    </tr>\n    <tr>\n      <th rowspan=\"4\" valign=\"top\">1/07/2010</th>\n      <th rowspan=\"4\" valign=\"top\">ADELAIDE</th>\n      <th rowspan=\"4\" valign=\"top\">5000</th>\n      <th rowspan=\"4\" valign=\"top\">OFFENCES AGAINST PROPERTY</th>\n      <th>FRAUD DECEPTION AND RELATED OFFENCES</th>\n      <th>Obtain benefit by deception</th>\n      <td>2</td>\n    </tr>\n    <tr>\n      <th>PROPERTY DAMAGE AND ENVIRONMENTAL</th>\n      <th>Other property damage and environmental</th>\n      <td>2</td>\n    </tr>\n    <tr>\n      <th>SERIOUS CRIMINAL TRESPASS</th>\n      <th>SCT - Non Residence</th>\n      <td>1</td>\n    </tr>\n    <tr>\n      <th>THEFT AND RELATED OFFENCES</th>\n      <th>Other theft</th>\n      <td>6</td>\n    </tr>\n  </tbody>\n</table>\n</div>"
     },
     "metadata": {},
     "execution_count": 49
    }
   ],
   "source": [
    "# EXTRACT 2010 DATA\n",
    "sa_crime_2010 = \"Resources/2010-11-data_sa_crime.csv\"\n",
    "sa_crime_2010_df = pd.read_csv(sa_crime_2010)\n",
    "sa_crime_2010_df.head()"
   ]
  },
  {
   "cell_type": "code",
   "execution_count": 50,
   "metadata": {},
   "outputs": [
    {
     "output_type": "execute_result",
     "data": {
      "text/plain": [
       "  Reported Date Suburb - Incident Postcode - Incident  \\\n",
       "0     1/07/2011    ABERFOYLE PARK                5159   \n",
       "1     1/07/2011    ABERFOYLE PARK                5159   \n",
       "2     1/07/2011          ADELAIDE                5000   \n",
       "3     1/07/2011          ADELAIDE                5000   \n",
       "4     1/07/2011          ADELAIDE                5000   \n",
       "\n",
       "  Offence Level 1 Description           Offence Level 2 Description  \\\n",
       "0   OFFENCES AGAINST PROPERTY     PROPERTY DAMAGE AND ENVIRONMENTAL   \n",
       "1   OFFENCES AGAINST PROPERTY            THEFT AND RELATED OFFENCES   \n",
       "2   OFFENCES AGAINST PROPERTY  FRAUD DECEPTION AND RELATED OFFENCES   \n",
       "3   OFFENCES AGAINST PROPERTY     PROPERTY DAMAGE AND ENVIRONMENTAL   \n",
       "4   OFFENCES AGAINST PROPERTY            THEFT AND RELATED OFFENCES   \n",
       "\n",
       "               Offence Level 3 Description  Offence count  \n",
       "0  Other property damage and environmental              1  \n",
       "1      Receive or handle proceeds of crime              1  \n",
       "2              Obtain benefit by deception              2  \n",
       "3  Other property damage and environmental              4  \n",
       "4                              Other theft              7  "
      ],
      "text/html": "<div>\n<style scoped>\n    .dataframe tbody tr th:only-of-type {\n        vertical-align: middle;\n    }\n\n    .dataframe tbody tr th {\n        vertical-align: top;\n    }\n\n    .dataframe thead th {\n        text-align: right;\n    }\n</style>\n<table border=\"1\" class=\"dataframe\">\n  <thead>\n    <tr style=\"text-align: right;\">\n      <th></th>\n      <th>Reported Date</th>\n      <th>Suburb - Incident</th>\n      <th>Postcode - Incident</th>\n      <th>Offence Level 1 Description</th>\n      <th>Offence Level 2 Description</th>\n      <th>Offence Level 3 Description</th>\n      <th>Offence count</th>\n    </tr>\n  </thead>\n  <tbody>\n    <tr>\n      <th>0</th>\n      <td>1/07/2011</td>\n      <td>ABERFOYLE PARK</td>\n      <td>5159</td>\n      <td>OFFENCES AGAINST PROPERTY</td>\n      <td>PROPERTY DAMAGE AND ENVIRONMENTAL</td>\n      <td>Other property damage and environmental</td>\n      <td>1</td>\n    </tr>\n    <tr>\n      <th>1</th>\n      <td>1/07/2011</td>\n      <td>ABERFOYLE PARK</td>\n      <td>5159</td>\n      <td>OFFENCES AGAINST PROPERTY</td>\n      <td>THEFT AND RELATED OFFENCES</td>\n      <td>Receive or handle proceeds of crime</td>\n      <td>1</td>\n    </tr>\n    <tr>\n      <th>2</th>\n      <td>1/07/2011</td>\n      <td>ADELAIDE</td>\n      <td>5000</td>\n      <td>OFFENCES AGAINST PROPERTY</td>\n      <td>FRAUD DECEPTION AND RELATED OFFENCES</td>\n      <td>Obtain benefit by deception</td>\n      <td>2</td>\n    </tr>\n    <tr>\n      <th>3</th>\n      <td>1/07/2011</td>\n      <td>ADELAIDE</td>\n      <td>5000</td>\n      <td>OFFENCES AGAINST PROPERTY</td>\n      <td>PROPERTY DAMAGE AND ENVIRONMENTAL</td>\n      <td>Other property damage and environmental</td>\n      <td>4</td>\n    </tr>\n    <tr>\n      <th>4</th>\n      <td>1/07/2011</td>\n      <td>ADELAIDE</td>\n      <td>5000</td>\n      <td>OFFENCES AGAINST PROPERTY</td>\n      <td>THEFT AND RELATED OFFENCES</td>\n      <td>Other theft</td>\n      <td>7</td>\n    </tr>\n  </tbody>\n</table>\n</div>"
     },
     "metadata": {},
     "execution_count": 50
    }
   ],
   "source": [
    "# EXTRACT 2011 DATA\n",
    "\n",
    "sa_crime_2011 = \"Resources/2011-12-data_sa_crime.xlsx\"\n",
    "sa_crime_2011_df = pd.read_excel(sa_crime_2011)\n",
    "sa_crime_2011_df.head()"
   ]
  },
  {
   "cell_type": "code",
   "execution_count": 51,
   "metadata": {},
   "outputs": [
    {
     "output_type": "execute_result",
     "data": {
      "text/plain": [
       "                                                                                                                                                               <<<<<<< HEAD\n",
       "Reported Date Suburb - Incident Postcode - Incident Offence Level 1 Description Offence Level 2 Description          Offence Level 3 Description              Offence count\n",
       "1/07/2010     ADELAIDE          5000                OFFENCES AGAINST PROPERTY   FRAUD DECEPTION AND RELATED OFFENCES Obtain benefit by deception                          2\n",
       "                                                                                PROPERTY DAMAGE AND ENVIRONMENTAL    Other property damage and environmental              2\n",
       "                                                                                SERIOUS CRIMINAL TRESPASS            SCT - Non Residence                                  1\n",
       "                                                                                THEFT AND RELATED OFFENCES           Other theft                                          6"
      ],
      "text/html": "<div>\n<style scoped>\n    .dataframe tbody tr th:only-of-type {\n        vertical-align: middle;\n    }\n\n    .dataframe tbody tr th {\n        vertical-align: top;\n    }\n\n    .dataframe thead th {\n        text-align: right;\n    }\n</style>\n<table border=\"1\" class=\"dataframe\">\n  <thead>\n    <tr style=\"text-align: right;\">\n      <th></th>\n      <th></th>\n      <th></th>\n      <th></th>\n      <th></th>\n      <th></th>\n      <th>&lt;&lt;&lt;&lt;&lt;&lt;&lt; HEAD</th>\n    </tr>\n  </thead>\n  <tbody>\n    <tr>\n      <th>Reported Date</th>\n      <th>Suburb - Incident</th>\n      <th>Postcode - Incident</th>\n      <th>Offence Level 1 Description</th>\n      <th>Offence Level 2 Description</th>\n      <th>Offence Level 3 Description</th>\n      <td>Offence count</td>\n    </tr>\n    <tr>\n      <th rowspan=\"4\" valign=\"top\">1/07/2010</th>\n      <th rowspan=\"4\" valign=\"top\">ADELAIDE</th>\n      <th rowspan=\"4\" valign=\"top\">5000</th>\n      <th rowspan=\"4\" valign=\"top\">OFFENCES AGAINST PROPERTY</th>\n      <th>FRAUD DECEPTION AND RELATED OFFENCES</th>\n      <th>Obtain benefit by deception</th>\n      <td>2</td>\n    </tr>\n    <tr>\n      <th>PROPERTY DAMAGE AND ENVIRONMENTAL</th>\n      <th>Other property damage and environmental</th>\n      <td>2</td>\n    </tr>\n    <tr>\n      <th>SERIOUS CRIMINAL TRESPASS</th>\n      <th>SCT - Non Residence</th>\n      <td>1</td>\n    </tr>\n    <tr>\n      <th>THEFT AND RELATED OFFENCES</th>\n      <th>Other theft</th>\n      <td>6</td>\n    </tr>\n  </tbody>\n</table>\n</div>"
     },
     "metadata": {},
     "execution_count": 51
    }
   ],
   "source": [
    "sa_crime_2012 = \"Resources/2012-13-data_sa_crime.csv\"\n",
    "sa_crime_2012_df = pd.read_csv(sa_crime_2012)\n",
    "sa_crime_2010_df.head()"
   ]
  },
  {
   "cell_type": "code",
   "execution_count": 52,
   "metadata": {},
   "outputs": [
    {
     "output_type": "execute_result",
     "data": {
      "text/plain": [
       "                                                     <<<<<<< HEAD  \\\n",
       "(Reported Date, Suburb - Incident, Postcode - I...  Offence count   \n",
       "(1/07/2010, ADELAIDE, 5000, OFFENCES AGAINST PR...              2   \n",
       "(1/07/2010, ADELAIDE, 5000, OFFENCES AGAINST PR...              2   \n",
       "(1/07/2010, ADELAIDE, 5000, OFFENCES AGAINST PR...              1   \n",
       "(1/07/2010, ADELAIDE, 5000, OFFENCES AGAINST PR...              6   \n",
       "\n",
       "                                                   Reported Date  \\\n",
       "(Reported Date, Suburb - Incident, Postcode - I...           NaN   \n",
       "(1/07/2010, ADELAIDE, 5000, OFFENCES AGAINST PR...           NaN   \n",
       "(1/07/2010, ADELAIDE, 5000, OFFENCES AGAINST PR...           NaN   \n",
       "(1/07/2010, ADELAIDE, 5000, OFFENCES AGAINST PR...           NaN   \n",
       "(1/07/2010, ADELAIDE, 5000, OFFENCES AGAINST PR...           NaN   \n",
       "\n",
       "                                                   Suburb - Incident  \\\n",
       "(Reported Date, Suburb - Incident, Postcode - I...               NaN   \n",
       "(1/07/2010, ADELAIDE, 5000, OFFENCES AGAINST PR...               NaN   \n",
       "(1/07/2010, ADELAIDE, 5000, OFFENCES AGAINST PR...               NaN   \n",
       "(1/07/2010, ADELAIDE, 5000, OFFENCES AGAINST PR...               NaN   \n",
       "(1/07/2010, ADELAIDE, 5000, OFFENCES AGAINST PR...               NaN   \n",
       "\n",
       "                                                   Postcode - Incident  \\\n",
       "(Reported Date, Suburb - Incident, Postcode - I...                 NaN   \n",
       "(1/07/2010, ADELAIDE, 5000, OFFENCES AGAINST PR...                 NaN   \n",
       "(1/07/2010, ADELAIDE, 5000, OFFENCES AGAINST PR...                 NaN   \n",
       "(1/07/2010, ADELAIDE, 5000, OFFENCES AGAINST PR...                 NaN   \n",
       "(1/07/2010, ADELAIDE, 5000, OFFENCES AGAINST PR...                 NaN   \n",
       "\n",
       "                                                   Offence Level 1 Description  \\\n",
       "(Reported Date, Suburb - Incident, Postcode - I...                         NaN   \n",
       "(1/07/2010, ADELAIDE, 5000, OFFENCES AGAINST PR...                         NaN   \n",
       "(1/07/2010, ADELAIDE, 5000, OFFENCES AGAINST PR...                         NaN   \n",
       "(1/07/2010, ADELAIDE, 5000, OFFENCES AGAINST PR...                         NaN   \n",
       "(1/07/2010, ADELAIDE, 5000, OFFENCES AGAINST PR...                         NaN   \n",
       "\n",
       "                                                   Offence Level 2 Description  \\\n",
       "(Reported Date, Suburb - Incident, Postcode - I...                         NaN   \n",
       "(1/07/2010, ADELAIDE, 5000, OFFENCES AGAINST PR...                         NaN   \n",
       "(1/07/2010, ADELAIDE, 5000, OFFENCES AGAINST PR...                         NaN   \n",
       "(1/07/2010, ADELAIDE, 5000, OFFENCES AGAINST PR...                         NaN   \n",
       "(1/07/2010, ADELAIDE, 5000, OFFENCES AGAINST PR...                         NaN   \n",
       "\n",
       "                                                   Offence Level 3 Description  \\\n",
       "(Reported Date, Suburb - Incident, Postcode - I...                         NaN   \n",
       "(1/07/2010, ADELAIDE, 5000, OFFENCES AGAINST PR...                         NaN   \n",
       "(1/07/2010, ADELAIDE, 5000, OFFENCES AGAINST PR...                         NaN   \n",
       "(1/07/2010, ADELAIDE, 5000, OFFENCES AGAINST PR...                         NaN   \n",
       "(1/07/2010, ADELAIDE, 5000, OFFENCES AGAINST PR...                         NaN   \n",
       "\n",
       "                                                    Offence count  \n",
       "(Reported Date, Suburb - Incident, Postcode - I...            NaN  \n",
       "(1/07/2010, ADELAIDE, 5000, OFFENCES AGAINST PR...            NaN  \n",
       "(1/07/2010, ADELAIDE, 5000, OFFENCES AGAINST PR...            NaN  \n",
       "(1/07/2010, ADELAIDE, 5000, OFFENCES AGAINST PR...            NaN  \n",
       "(1/07/2010, ADELAIDE, 5000, OFFENCES AGAINST PR...            NaN  "
      ],
      "text/html": "<div>\n<style scoped>\n    .dataframe tbody tr th:only-of-type {\n        vertical-align: middle;\n    }\n\n    .dataframe tbody tr th {\n        vertical-align: top;\n    }\n\n    .dataframe thead th {\n        text-align: right;\n    }\n</style>\n<table border=\"1\" class=\"dataframe\">\n  <thead>\n    <tr style=\"text-align: right;\">\n      <th></th>\n      <th>&lt;&lt;&lt;&lt;&lt;&lt;&lt; HEAD</th>\n      <th>Reported Date</th>\n      <th>Suburb - Incident</th>\n      <th>Postcode - Incident</th>\n      <th>Offence Level 1 Description</th>\n      <th>Offence Level 2 Description</th>\n      <th>Offence Level 3 Description</th>\n      <th>Offence count</th>\n    </tr>\n  </thead>\n  <tbody>\n    <tr>\n      <th>(Reported Date, Suburb - Incident, Postcode - Incident, Offence Level 1 Description, Offence Level 2 Description, Offence Level 3 Description)</th>\n      <td>Offence count</td>\n      <td>NaN</td>\n      <td>NaN</td>\n      <td>NaN</td>\n      <td>NaN</td>\n      <td>NaN</td>\n      <td>NaN</td>\n      <td>NaN</td>\n    </tr>\n    <tr>\n      <th>(1/07/2010, ADELAIDE, 5000, OFFENCES AGAINST PROPERTY, FRAUD DECEPTION AND RELATED OFFENCES, Obtain benefit by deception)</th>\n      <td>2</td>\n      <td>NaN</td>\n      <td>NaN</td>\n      <td>NaN</td>\n      <td>NaN</td>\n      <td>NaN</td>\n      <td>NaN</td>\n      <td>NaN</td>\n    </tr>\n    <tr>\n      <th>(1/07/2010, ADELAIDE, 5000, OFFENCES AGAINST PROPERTY, PROPERTY DAMAGE AND ENVIRONMENTAL, Other property damage and environmental)</th>\n      <td>2</td>\n      <td>NaN</td>\n      <td>NaN</td>\n      <td>NaN</td>\n      <td>NaN</td>\n      <td>NaN</td>\n      <td>NaN</td>\n      <td>NaN</td>\n    </tr>\n    <tr>\n      <th>(1/07/2010, ADELAIDE, 5000, OFFENCES AGAINST PROPERTY, SERIOUS CRIMINAL TRESPASS, SCT - Non Residence)</th>\n      <td>1</td>\n      <td>NaN</td>\n      <td>NaN</td>\n      <td>NaN</td>\n      <td>NaN</td>\n      <td>NaN</td>\n      <td>NaN</td>\n      <td>NaN</td>\n    </tr>\n    <tr>\n      <th>(1/07/2010, ADELAIDE, 5000, OFFENCES AGAINST PROPERTY, THEFT AND RELATED OFFENCES, Other theft)</th>\n      <td>6</td>\n      <td>NaN</td>\n      <td>NaN</td>\n      <td>NaN</td>\n      <td>NaN</td>\n      <td>NaN</td>\n      <td>NaN</td>\n      <td>NaN</td>\n    </tr>\n  </tbody>\n</table>\n</div>"
     },
     "metadata": {},
     "execution_count": 52
    }
   ],
   "source": [
    "# TRANSFORMING THE DATA\n",
    "# JOIN DATA FOR 2010,2011 AND 2013 TOGETHER\n",
    "frames = [sa_crime_2010_df,sa_crime_2011_df,sa_crime_2012_df]\n",
    "sa_crime_df = pd.concat(frames)\n",
    "sa_crime_df.head()"
   ]
  },
  {
   "cell_type": "code",
   "execution_count": 53,
   "metadata": {},
   "outputs": [
    {
     "output_type": "execute_result",
     "data": {
      "text/plain": [
       "       Suburb - Incident           Offence Level 2 Description  \\\n",
       "0         ABERFOYLE PARK     PROPERTY DAMAGE AND ENVIRONMENTAL   \n",
       "1         ABERFOYLE PARK            THEFT AND RELATED OFFENCES   \n",
       "2               ADELAIDE  FRAUD DECEPTION AND RELATED OFFENCES   \n",
       "3               ADELAIDE     PROPERTY DAMAGE AND ENVIRONMENTAL   \n",
       "4               ADELAIDE            THEFT AND RELATED OFFENCES   \n",
       "...                  ...                                   ...   \n",
       "96398  WOODVILLE GARDENS             SERIOUS CRIMINAL TRESPASS   \n",
       "96399  WOODVILLE GARDENS            THEFT AND RELATED OFFENCES   \n",
       "96400  WOODVILLE GARDENS            THEFT AND RELATED OFFENCES   \n",
       "96401     WOODVILLE PARK            THEFT AND RELATED OFFENCES   \n",
       "96402     WOODVILLE WEST     PROPERTY DAMAGE AND ENVIRONMENTAL   \n",
       "\n",
       "                   Offence Level 3 Description  Offence count  \n",
       "0      Other property damage and environmental            1.0  \n",
       "1          Receive or handle proceeds of crime            1.0  \n",
       "2                  Obtain benefit by deception            2.0  \n",
       "3      Other property damage and environmental            4.0  \n",
       "4                                  Other theft            7.0  \n",
       "...                                        ...            ...  \n",
       "96398         Other unlawful entry with intent            1.0  \n",
       "96399                              Other theft            1.0  \n",
       "96400                          Theft from shop            1.0  \n",
       "96401                              Other theft            1.0  \n",
       "96402  Other property damage and environmental            2.0  \n",
       "\n",
       "[196228 rows x 4 columns]"
      ],
      "text/html": "<div>\n<style scoped>\n    .dataframe tbody tr th:only-of-type {\n        vertical-align: middle;\n    }\n\n    .dataframe tbody tr th {\n        vertical-align: top;\n    }\n\n    .dataframe thead th {\n        text-align: right;\n    }\n</style>\n<table border=\"1\" class=\"dataframe\">\n  <thead>\n    <tr style=\"text-align: right;\">\n      <th></th>\n      <th>Suburb - Incident</th>\n      <th>Offence Level 2 Description</th>\n      <th>Offence Level 3 Description</th>\n      <th>Offence count</th>\n    </tr>\n  </thead>\n  <tbody>\n    <tr>\n      <th>0</th>\n      <td>ABERFOYLE PARK</td>\n      <td>PROPERTY DAMAGE AND ENVIRONMENTAL</td>\n      <td>Other property damage and environmental</td>\n      <td>1.0</td>\n    </tr>\n    <tr>\n      <th>1</th>\n      <td>ABERFOYLE PARK</td>\n      <td>THEFT AND RELATED OFFENCES</td>\n      <td>Receive or handle proceeds of crime</td>\n      <td>1.0</td>\n    </tr>\n    <tr>\n      <th>2</th>\n      <td>ADELAIDE</td>\n      <td>FRAUD DECEPTION AND RELATED OFFENCES</td>\n      <td>Obtain benefit by deception</td>\n      <td>2.0</td>\n    </tr>\n    <tr>\n      <th>3</th>\n      <td>ADELAIDE</td>\n      <td>PROPERTY DAMAGE AND ENVIRONMENTAL</td>\n      <td>Other property damage and environmental</td>\n      <td>4.0</td>\n    </tr>\n    <tr>\n      <th>4</th>\n      <td>ADELAIDE</td>\n      <td>THEFT AND RELATED OFFENCES</td>\n      <td>Other theft</td>\n      <td>7.0</td>\n    </tr>\n    <tr>\n      <th>...</th>\n      <td>...</td>\n      <td>...</td>\n      <td>...</td>\n      <td>...</td>\n    </tr>\n    <tr>\n      <th>96398</th>\n      <td>WOODVILLE GARDENS</td>\n      <td>SERIOUS CRIMINAL TRESPASS</td>\n      <td>Other unlawful entry with intent</td>\n      <td>1.0</td>\n    </tr>\n    <tr>\n      <th>96399</th>\n      <td>WOODVILLE GARDENS</td>\n      <td>THEFT AND RELATED OFFENCES</td>\n      <td>Other theft</td>\n      <td>1.0</td>\n    </tr>\n    <tr>\n      <th>96400</th>\n      <td>WOODVILLE GARDENS</td>\n      <td>THEFT AND RELATED OFFENCES</td>\n      <td>Theft from shop</td>\n      <td>1.0</td>\n    </tr>\n    <tr>\n      <th>96401</th>\n      <td>WOODVILLE PARK</td>\n      <td>THEFT AND RELATED OFFENCES</td>\n      <td>Other theft</td>\n      <td>1.0</td>\n    </tr>\n    <tr>\n      <th>96402</th>\n      <td>WOODVILLE WEST</td>\n      <td>PROPERTY DAMAGE AND ENVIRONMENTAL</td>\n      <td>Other property damage and environmental</td>\n      <td>2.0</td>\n    </tr>\n  </tbody>\n</table>\n<p>196228 rows × 4 columns</p>\n</div>"
     },
     "metadata": {},
     "execution_count": 53
    }
   ],
   "source": [
    "# NARROW DOWN TO THE COLUMNS IAM INTRESTED IN\n",
    "\n",
    "sa_crime_df = sa_crime_df[['Suburb - Incident','Offence Level 2 Description','Offence Level 3 Description','Offence count']].copy()\n",
    "\n",
    "sa_crime_df\n",
    "\n",
    "# DROP ROWS WITH NULL VALUES\n",
    "\n",
    "sa_crime_df = sa_crime_df.dropna()\n",
    "\n",
    "sa_crime_df"
   ]
  },
  {
   "cell_type": "code",
   "execution_count": 55,
   "metadata": {},
   "outputs": [
    {
     "output_type": "execute_result",
     "data": {
      "text/plain": [
       "       Suburb - Incident Offence Level 2 Description  \\\n",
       "1         ABERFOYLE PARK  THEFT AND RELATED OFFENCES   \n",
       "4               ADELAIDE  THEFT AND RELATED OFFENCES   \n",
       "5               ADELAIDE  THEFT AND RELATED OFFENCES   \n",
       "6               ADELAIDE  THEFT AND RELATED OFFENCES   \n",
       "14         ALDINGA BEACH  THEFT AND RELATED OFFENCES   \n",
       "...                  ...                         ...   \n",
       "96391   WHYALLA PLAYFORD  THEFT AND RELATED OFFENCES   \n",
       "96396          WILLASTON  THEFT AND RELATED OFFENCES   \n",
       "96399  WOODVILLE GARDENS  THEFT AND RELATED OFFENCES   \n",
       "96400  WOODVILLE GARDENS  THEFT AND RELATED OFFENCES   \n",
       "96401     WOODVILLE PARK  THEFT AND RELATED OFFENCES   \n",
       "\n",
       "               Offence Level 3 Description  Offence count  \n",
       "1      Receive or handle proceeds of crime            1.0  \n",
       "4                              Other theft            7.0  \n",
       "5                 Theft from motor vehicle            2.0  \n",
       "6                          Theft from shop            1.0  \n",
       "14                             Other theft            1.0  \n",
       "...                                    ...            ...  \n",
       "96391                          Other theft            1.0  \n",
       "96396             Theft from motor vehicle            1.0  \n",
       "96399                          Other theft            1.0  \n",
       "96400                      Theft from shop            1.0  \n",
       "96401                          Other theft            1.0  \n",
       "\n",
       "[71791 rows x 4 columns]"
      ],
      "text/html": "<div>\n<style scoped>\n    .dataframe tbody tr th:only-of-type {\n        vertical-align: middle;\n    }\n\n    .dataframe tbody tr th {\n        vertical-align: top;\n    }\n\n    .dataframe thead th {\n        text-align: right;\n    }\n</style>\n<table border=\"1\" class=\"dataframe\">\n  <thead>\n    <tr style=\"text-align: right;\">\n      <th></th>\n      <th>Suburb - Incident</th>\n      <th>Offence Level 2 Description</th>\n      <th>Offence Level 3 Description</th>\n      <th>Offence count</th>\n    </tr>\n  </thead>\n  <tbody>\n    <tr>\n      <th>1</th>\n      <td>ABERFOYLE PARK</td>\n      <td>THEFT AND RELATED OFFENCES</td>\n      <td>Receive or handle proceeds of crime</td>\n      <td>1.0</td>\n    </tr>\n    <tr>\n      <th>4</th>\n      <td>ADELAIDE</td>\n      <td>THEFT AND RELATED OFFENCES</td>\n      <td>Other theft</td>\n      <td>7.0</td>\n    </tr>\n    <tr>\n      <th>5</th>\n      <td>ADELAIDE</td>\n      <td>THEFT AND RELATED OFFENCES</td>\n      <td>Theft from motor vehicle</td>\n      <td>2.0</td>\n    </tr>\n    <tr>\n      <th>6</th>\n      <td>ADELAIDE</td>\n      <td>THEFT AND RELATED OFFENCES</td>\n      <td>Theft from shop</td>\n      <td>1.0</td>\n    </tr>\n    <tr>\n      <th>14</th>\n      <td>ALDINGA BEACH</td>\n      <td>THEFT AND RELATED OFFENCES</td>\n      <td>Other theft</td>\n      <td>1.0</td>\n    </tr>\n    <tr>\n      <th>...</th>\n      <td>...</td>\n      <td>...</td>\n      <td>...</td>\n      <td>...</td>\n    </tr>\n    <tr>\n      <th>96391</th>\n      <td>WHYALLA PLAYFORD</td>\n      <td>THEFT AND RELATED OFFENCES</td>\n      <td>Other theft</td>\n      <td>1.0</td>\n    </tr>\n    <tr>\n      <th>96396</th>\n      <td>WILLASTON</td>\n      <td>THEFT AND RELATED OFFENCES</td>\n      <td>Theft from motor vehicle</td>\n      <td>1.0</td>\n    </tr>\n    <tr>\n      <th>96399</th>\n      <td>WOODVILLE GARDENS</td>\n      <td>THEFT AND RELATED OFFENCES</td>\n      <td>Other theft</td>\n      <td>1.0</td>\n    </tr>\n    <tr>\n      <th>96400</th>\n      <td>WOODVILLE GARDENS</td>\n      <td>THEFT AND RELATED OFFENCES</td>\n      <td>Theft from shop</td>\n      <td>1.0</td>\n    </tr>\n    <tr>\n      <th>96401</th>\n      <td>WOODVILLE PARK</td>\n      <td>THEFT AND RELATED OFFENCES</td>\n      <td>Other theft</td>\n      <td>1.0</td>\n    </tr>\n  </tbody>\n</table>\n<p>71791 rows × 4 columns</p>\n</div>"
     },
     "metadata": {},
     "execution_count": 55
    }
   ],
   "source": [
    "# NARROW THE DATA TO 'Theft and related offences\"\n",
    "\n",
    "sa_theft_df = sa_crime_df.loc[sa_crime_df['Offence Level 2 Description']== 'THEFT AND RELATED OFFENCES',:]\n",
    "\n",
    "sa_theft_df"
   ]
  },
  {
   "cell_type": "code",
   "execution_count": 56,
   "metadata": {},
   "outputs": [
    {
     "output_type": "stream",
     "name": "stdout",
     "text": [
      "<pandas.core.groupby.generic.DataFrameGroupBy object at 0x00000219D6406C10>\n"
     ]
    }
   ],
   "source": [
    "# CONVERTING THE 'offence count' TO NUMERIC\n",
    "\n",
    "sa_theft_df['Offence count'] = sa_theft_df.loc[:,'Offence count'].astype(float)\n",
    "# GROUPING THEFT BY SUBURBS)\n",
    "suburb_df = sa_theft_df.groupby(['Suburb - Incident'],as_index=False)\n",
    "# suburb_df = suburb_df.reset_index(inplace=True, drop=True)\n",
    "\n",
    "print(suburb_df)"
   ]
  },
  {
   "cell_type": "code",
   "execution_count": 57,
   "metadata": {},
   "outputs": [
    {
     "output_type": "execute_result",
     "data": {
      "text/plain": [
       "  Suburb - Incident  Offence count\n",
       "0    ABERFOYLE PARK          280.0\n",
       "1          ADELAIDE         5948.0\n",
       "2  ADELAIDE AIRPORT          189.0\n",
       "3             AGERY            1.0\n",
       "4          ALAWOONA            1.0\n",
       "5       ALBERT PARK           59.0\n",
       "6          ALBERTON          154.0\n",
       "7           ALDGATE           36.0\n",
       "8           ALDINGA           47.0\n",
       "9     ALDINGA BEACH          455.0"
      ],
      "text/html": "<div>\n<style scoped>\n    .dataframe tbody tr th:only-of-type {\n        vertical-align: middle;\n    }\n\n    .dataframe tbody tr th {\n        vertical-align: top;\n    }\n\n    .dataframe thead th {\n        text-align: right;\n    }\n</style>\n<table border=\"1\" class=\"dataframe\">\n  <thead>\n    <tr style=\"text-align: right;\">\n      <th></th>\n      <th>Suburb - Incident</th>\n      <th>Offence count</th>\n    </tr>\n  </thead>\n  <tbody>\n    <tr>\n      <th>0</th>\n      <td>ABERFOYLE PARK</td>\n      <td>280.0</td>\n    </tr>\n    <tr>\n      <th>1</th>\n      <td>ADELAIDE</td>\n      <td>5948.0</td>\n    </tr>\n    <tr>\n      <th>2</th>\n      <td>ADELAIDE AIRPORT</td>\n      <td>189.0</td>\n    </tr>\n    <tr>\n      <th>3</th>\n      <td>AGERY</td>\n      <td>1.0</td>\n    </tr>\n    <tr>\n      <th>4</th>\n      <td>ALAWOONA</td>\n      <td>1.0</td>\n    </tr>\n    <tr>\n      <th>5</th>\n      <td>ALBERT PARK</td>\n      <td>59.0</td>\n    </tr>\n    <tr>\n      <th>6</th>\n      <td>ALBERTON</td>\n      <td>154.0</td>\n    </tr>\n    <tr>\n      <th>7</th>\n      <td>ALDGATE</td>\n      <td>36.0</td>\n    </tr>\n    <tr>\n      <th>8</th>\n      <td>ALDINGA</td>\n      <td>47.0</td>\n    </tr>\n    <tr>\n      <th>9</th>\n      <td>ALDINGA BEACH</td>\n      <td>455.0</td>\n    </tr>\n  </tbody>\n</table>\n</div>"
     },
     "metadata": {},
     "execution_count": 57
    }
   ],
   "source": [
    "# CALCULATING TOTAL THEFT PER SUBURB\n",
    "result = suburb_df['Offence count'].sum().head(10)\n",
    "result"
   ]
  },
  {
   "cell_type": "code",
   "execution_count": 93,
   "metadata": {},
   "outputs": [
    {
     "output_type": "execute_result",
     "data": {
      "text/plain": [
       "   id            suburb  offence_count\n",
       "0   1          ADELAIDE         5948.0\n",
       "1   2     ALDINGA BEACH          455.0\n",
       "2   3    ABERFOYLE PARK          280.0\n",
       "3   4  ADELAIDE AIRPORT          189.0\n",
       "4   5          ALBERTON          154.0\n",
       "5   6       ALBERT PARK           59.0\n",
       "6   7           ALDINGA           47.0\n",
       "7   8           ALDGATE           36.0\n",
       "8   9             AGERY            1.0\n",
       "9  10          ALAWOONA            1.0"
      ],
      "text/html": "<div>\n<style scoped>\n    .dataframe tbody tr th:only-of-type {\n        vertical-align: middle;\n    }\n\n    .dataframe tbody tr th {\n        vertical-align: top;\n    }\n\n    .dataframe thead th {\n        text-align: right;\n    }\n</style>\n<table border=\"1\" class=\"dataframe\">\n  <thead>\n    <tr style=\"text-align: right;\">\n      <th></th>\n      <th>id</th>\n      <th>suburb</th>\n      <th>offence_count</th>\n    </tr>\n  </thead>\n  <tbody>\n    <tr>\n      <th>0</th>\n      <td>1</td>\n      <td>ADELAIDE</td>\n      <td>5948.0</td>\n    </tr>\n    <tr>\n      <th>1</th>\n      <td>2</td>\n      <td>ALDINGA BEACH</td>\n      <td>455.0</td>\n    </tr>\n    <tr>\n      <th>2</th>\n      <td>3</td>\n      <td>ABERFOYLE PARK</td>\n      <td>280.0</td>\n    </tr>\n    <tr>\n      <th>3</th>\n      <td>4</td>\n      <td>ADELAIDE AIRPORT</td>\n      <td>189.0</td>\n    </tr>\n    <tr>\n      <th>4</th>\n      <td>5</td>\n      <td>ALBERTON</td>\n      <td>154.0</td>\n    </tr>\n    <tr>\n      <th>5</th>\n      <td>6</td>\n      <td>ALBERT PARK</td>\n      <td>59.0</td>\n    </tr>\n    <tr>\n      <th>6</th>\n      <td>7</td>\n      <td>ALDINGA</td>\n      <td>47.0</td>\n    </tr>\n    <tr>\n      <th>7</th>\n      <td>8</td>\n      <td>ALDGATE</td>\n      <td>36.0</td>\n    </tr>\n    <tr>\n      <th>8</th>\n      <td>9</td>\n      <td>AGERY</td>\n      <td>1.0</td>\n    </tr>\n    <tr>\n      <th>9</th>\n      <td>10</td>\n      <td>ALAWOONA</td>\n      <td>1.0</td>\n    </tr>\n  </tbody>\n</table>\n</div>"
     },
     "metadata": {},
     "execution_count": 93
    }
   ],
   "source": [
    "new_df = pd.DataFrame(result)\n",
    "new_df = new_df.sort_values(by='Offence count', ascending = False)\n",
    "new_df = new_df.reset_index(drop=True)\n",
    "\n",
    "# Rename the column headers\n",
    "new_df['id'] = (new_df.index + 1).astype(int)\n",
    "\n",
    "new_df = new_df.rename(columns={'id':'id','Suburb - Incident':'suburb','Offence count':'offence_count'})\n",
    "\n",
    "new_df = new_df[['id','suburb','offence_count']]\n",
    "\n",
    "\n",
    "new_df"
   ]
  },
  {
   "cell_type": "code",
   "execution_count": 94,
   "metadata": {},
   "outputs": [],
   "source": [
    "# CREATE CONNECTION\n",
    "\n",
    "# from config import password1\n",
    "\n",
    "connection_string = \"postgres:Adewuniyi&3@localhost:5432/crime_db\"\n",
    "engine = create_engine(f'postgresql://{connection_string}')"
   ]
  },
  {
   "cell_type": "code",
   "execution_count": 109,
   "metadata": {},
   "outputs": [],
   "source": [
    "import config"
   ]
  },
  {
   "cell_type": "code",
   "execution_count": 111,
   "metadata": {},
   "outputs": [
    {
     "output_type": "execute_result",
     "data": {
      "text/plain": [
       "'Adewuniyi&3'"
      ]
     },
     "metadata": {},
     "execution_count": 111
    }
   ],
   "source": [
    "config.password_1"
   ]
  },
  {
   "cell_type": "code",
   "execution_count": 95,
   "metadata": {},
   "outputs": [
    {
     "output_type": "execute_result",
     "data": {
      "text/plain": [
       "['sa_crime']"
      ]
     },
     "metadata": {},
     "execution_count": 95
    }
   ],
   "source": [
    "# CONFIRM TABBLE\n",
    "engine.table_names()"
   ]
  },
  {
   "cell_type": "code",
   "execution_count": 96,
   "metadata": {},
   "outputs": [],
   "source": [
    "# LOAD DATAFRAME INTO DATABASE\n",
    "\n",
    "new_df.to_sql(name='sa_crime', con=engine, if_exists='append', index=False)"
   ]
  },
  {
   "cell_type": "code",
   "execution_count": 99,
   "metadata": {},
   "outputs": [
    {
     "output_type": "execute_result",
     "data": {
      "text/plain": [
       "   id            suburb  offence_count\n",
       "0   1          ADELAIDE           5948\n",
       "1   2     ALDINGA BEACH            455\n",
       "2   3    ABERFOYLE PARK            280\n",
       "3   4  ADELAIDE AIRPORT            189\n",
       "4   5          ALBERTON            154"
      ],
      "text/html": "<div>\n<style scoped>\n    .dataframe tbody tr th:only-of-type {\n        vertical-align: middle;\n    }\n\n    .dataframe tbody tr th {\n        vertical-align: top;\n    }\n\n    .dataframe thead th {\n        text-align: right;\n    }\n</style>\n<table border=\"1\" class=\"dataframe\">\n  <thead>\n    <tr style=\"text-align: right;\">\n      <th></th>\n      <th>id</th>\n      <th>suburb</th>\n      <th>offence_count</th>\n    </tr>\n  </thead>\n  <tbody>\n    <tr>\n      <th>0</th>\n      <td>1</td>\n      <td>ADELAIDE</td>\n      <td>5948</td>\n    </tr>\n    <tr>\n      <th>1</th>\n      <td>2</td>\n      <td>ALDINGA BEACH</td>\n      <td>455</td>\n    </tr>\n    <tr>\n      <th>2</th>\n      <td>3</td>\n      <td>ABERFOYLE PARK</td>\n      <td>280</td>\n    </tr>\n    <tr>\n      <th>3</th>\n      <td>4</td>\n      <td>ADELAIDE AIRPORT</td>\n      <td>189</td>\n    </tr>\n    <tr>\n      <th>4</th>\n      <td>5</td>\n      <td>ALBERTON</td>\n      <td>154</td>\n    </tr>\n  </tbody>\n</table>\n</div>"
     },
     "metadata": {},
     "execution_count": 99
    }
   ],
   "source": [
    "# CONFIRM DATA HAS BEEN CORRECTLY LOADED\n",
    "pd.read_sql_query('select * from sa_crime', con=engine).head()"
   ]
  },
  {
   "cell_type": "code",
   "execution_count": null,
   "metadata": {},
   "outputs": [],
   "source": []
  }
 ]
}