{
 "metadata": {
  "language_info": {
   "codemirror_mode": {
    "name": "ipython",
    "version": 3
   },
   "file_extension": ".py",
   "mimetype": "text/x-python",
   "name": "python",
   "nbconvert_exporter": "python",
   "pygments_lexer": "ipython3",
   "version": "3.8.3-final"
  },
  "orig_nbformat": 2,
  "kernelspec": {
   "name": "python3",
   "display_name": "Python 3",
   "language": "python"
  }
 },
 "nbformat": 4,
 "nbformat_minor": 2,
 "cells": [
  {
   "cell_type": "code",
   "execution_count": null,
   "metadata": {},
   "outputs": [],
   "source": [
    "import pandas as pd\n",
    "from sqlalchemy import create_engine"
   ]
  },
  {
   "source": [
    "# NSW Crime data"
   ],
   "cell_type": "markdown",
   "metadata": {}
  },
  {
   "source": [
    "### Store CSV into DataFrame"
   ],
   "cell_type": "markdown",
   "metadata": {}
  },
  {
   "cell_type": "code",
   "execution_count": null,
   "metadata": {},
   "outputs": [],
   "source": [
    "file = \"Resources/rci-offencebymonth.csv\"\n",
    "nsw_crime = pd.read_csv(file)\n",
    "nsw_crime.head(10)"
   ]
  },
  {
   "source": [
    "### Create new dataframe with selected columns"
   ],
   "cell_type": "markdown",
   "metadata": {}
  },
  {
   "cell_type": "code",
   "execution_count": null,
   "metadata": {},
   "outputs": [],
   "source": [
    "theft_nsw = nsw_crime.loc[nsw_crime['Offence category']== 'Theft',:]\n",
    "theft_nsw.head()\n",
    "new_col = ['LGA','Subcategory','Jan 2010','Feb 2010','Mar 2010','Apr 2010','May 2010','Jun 2010',\n",
    "'Jul 2010','Aug 2010','Sep 2010','Oct 2010','Nov 2010','Dec 2010','Jan 2011','Feb 2011','Mar 2011','Apr 2011','May 2011','Jun 2011','Jul 2011','Aug 2011','Sep 2011','Oct 2011','Nov 2011','Dec 2011','Jan 2012','Feb 2012','Mar 2012','Apr 2012','May 2012','Jun 2012','Jul 2012','Aug 2012','Sep 2012','Oct 2012','Nov 2012','Dec 2012']\n",
    "theft_nsw_df = theft_nsw[new_col].copy() \n",
    "theft_nsw_df.reset_index(inplace = True, drop = True)\n",
    "theft_nsw_df.head()"
   ]
  },
  {
   "source": [
    "# Create separate dataframes for Years of interest\n",
    "theft_2010 = theft_nsw_df[['LGA','Subcategory','Jan 2010','Feb 2010','Mar 2010','Apr 2010','May 2010','Jun 2010','Jul 2010','Aug 2010','Sep 2010','Oct 2010','Nov 2010','Dec 2010']].copy()\n",
    "theft_2011 = theft_nsw_df[['LGA','Subcategory','Jan 2011','Feb 2011','Mar 2011','Apr 2011','May 2011','Jun 2011','Jul 2011','Aug 2011','Sep 2011','Oct 2011','Nov 2011','Dec 2011']].copy()\n",
    "theft_2012 = theft_nsw_df[['LGA','Subcategory','Jan 2012','Feb 2012','Mar 2012','Apr 2012','May 2012','Jun 2012','Jul 2012','Aug 2012','Sep 2012','Oct 2012','Nov 2012','Dec 2012']].copy()\n",
    "theft_2010.reset_index(inplace = True, drop = True)\n",
    "theft_2011.reset_index(inplace = True, drop = True)\n",
    "theft_2012.reset_index(inplace = True, drop = True)"
   ],
   "cell_type": "code",
   "metadata": {},
   "execution_count": null,
   "outputs": []
  },
  {
   "cell_type": "code",
   "execution_count": null,
   "metadata": {},
   "outputs": [],
   "source": [
    "# Clean Dataframe\n",
    "year_2010 = theft_2010.sum(axis=1)\n",
    "year_2010_series =pd.Series(year_2010)\n",
    "year_2010_df = pd.DataFrame(year_2010_series)\n",
    "year_2010_df = year_2010_df.rename(columns={0:'2010'})\n",
    "\n",
    "df_all_2010 = pd.concat([theft_2010,year_2010_df], axis=1)\n",
    "df_year_2010 = df_all_2010.drop(['Jan 2010','Feb 2010','Mar 2010','Apr 2010','May 2010','Jun 2010','Jul 2010','Aug 2010','Sep 2010','Oct 2010','Nov 2010','Dec 2010'],axis=1)\n",
    "df_year_2010.head()"
   ]
  },
  {
   "cell_type": "code",
   "execution_count": null,
   "metadata": {},
   "outputs": [],
   "source": [
    "year_2011 = theft_2011.sum(axis=1)\n",
    "year_2011_series =pd.Series(year_2011)\n",
    "year_2011_df = pd.DataFrame(year_2011_series)\n",
    "year_2011_df = year_2011_df.rename(columns={0:'2011'})\n",
    "\n",
    "df_all_2011 = pd.concat([theft_2011,year_2011_df], axis=1)\n",
    "df_year_2011 = df_all_2011.drop(['Jan 2011','Feb 2011','Mar 2011','Apr 2011','May 2011','Jun 2011','Jul 2011','Aug 2011','Sep 2011','Oct 2011','Nov 2011','Dec 2011'],axis=1)\n",
    "df_year_2011.head()"
   ]
  },
  {
   "cell_type": "code",
   "execution_count": null,
   "metadata": {},
   "outputs": [],
   "source": [
    "year_2012 = theft_2012.sum(axis=1)\n",
    "year_2012_series =pd.Series(year_2012)\n",
    "year_2012_df = pd.DataFrame(year_2012_series)\n",
    "year_2012_df = year_2012_df.rename(columns={0:'2012'})\n",
    "\n",
    "df_all_2012 = pd.concat([theft_2012,year_2012_df], axis=1)\n",
    "df_year_2012 = df_all_2012.drop(['Jan 2012','Feb 2012','Mar 2012','Apr 2012','May 2012','Jun 2012','Jul 2012','Aug 2012','Sep 2012','Oct 2012','Nov 2012','Dec 2012'],axis=1)\n",
    "df_year_2012.head()"
   ]
  },
  {
   "source": [
    "# Merge dataframe of all Years(2010,2011,2012) together"
   ],
   "cell_type": "markdown",
   "metadata": {}
  },
  {
   "cell_type": "code",
   "execution_count": null,
   "metadata": {},
   "outputs": [],
   "source": [
    "df_nsw_crime_11 =pd.merge(df_year_2010,df_year_2011,how='outer', on=['LGA','Subcategory'])\n",
    "df_nsw_crime =pd.merge(df_nsw_crime_11,df_year_2012,how='outer', on=['LGA','Subcategory'])\n",
    "df_nsw_crime"
   ]
  },
  {
   "cell_type": "code",
   "execution_count": null,
   "metadata": {},
   "outputs": [],
   "source": [
    "df_nsw_crime.groupby(['Subcategory','LGA']).sum()"
   ]
  },
  {
   "cell_type": "code",
   "execution_count": null,
   "metadata": {},
   "outputs": [],
   "source": [
    "# SA Crime data"
   ]
  },
  {
   "cell_type": "code",
   "execution_count": null,
   "metadata": {},
   "outputs": [],
   "source": [
    "# EXTRACT 2010 DATA\n",
    "sa_crime_2010 = \"Resources/2010-11-data_sa_crime.csv\"\n",
    "sa_crime_2010_df = pd.read_csv(sa_crime_2010)\n",
    "sa_crime_2010_df.head()"
   ]
  },
  {
   "cell_type": "code",
   "execution_count": null,
   "metadata": {},
   "outputs": [],
   "source": [
    "# EXTRACT 2011 DATA\n",
    "\n",
    "sa_crime_2011 = \"Resources/2011-12-data_sa_crime.xlsx\"\n",
    "sa_crime_2011_df = pd.read_excel(sa_crime_2011)\n",
    "sa_crime_2011_df.head()"
   ]
  },
  {
   "cell_type": "code",
   "execution_count": null,
   "metadata": {},
   "outputs": [],
   "source": [
    "sa_crime_2012 = \"Resources/2012-13-data_sa_crime.csv\"\n",
    "sa_crime_2012_df = pd.read_csv(sa_crime_2012)\n",
    "sa_crime_2010_df.head()"
   ]
  },
  {
   "cell_type": "code",
   "execution_count": null,
   "metadata": {},
   "outputs": [],
   "source": [
    "# TRANSFORMING THE DATA\n",
    "# JOIN DATA FOR 2010,2011 AND 2013 TOGETHER\n",
    "frames = [sa_crime_2010_df,sa_crime_2011_df,sa_crime_2012_df]\n",
    "sa_crime_df = pd.concat(frames)\n",
    "sa_crime_df.head()"
   ]
  },
  {
   "cell_type": "code",
   "execution_count": null,
   "metadata": {},
   "outputs": [],
   "source": [
    "# NARROW DOWN TO THE COLUMNS IAM INTRESTED IN\n",
    "\n",
    "sa_crime_df = sa_crime_df[['Suburb - Incident','Offence Level 2 Description','Offence count']].copy()\n",
    "\n",
    "sa_crime_df\n",
    "\n",
    "# DROP ROWS WITH NULL VALUES\n",
    "\n",
    "sa_crime_df = sa_crime_df.dropna()\n",
    "\n",
    "sa_crime_df"
   ]
  },
  {
   "cell_type": "code",
   "execution_count": null,
   "metadata": {},
   "outputs": [],
   "source": [
    "# NARROW THE DATA TO 'Theft and related offences\"\n",
    "\n",
    "sa_theft_df = sa_crime_df.loc[sa_crime_df['Offence Level 2 Description']== 'THEFT AND RELATED OFFENCES',:]\n",
    "\n",
    "sa_theft_df"
   ]
  },
  {
   "cell_type": "code",
   "execution_count": null,
   "metadata": {},
   "outputs": [],
   "source": [
    "# CONVERTING THE 'offence count' TO NUMERIC\n",
    "\n",
    "sa_theft_df['Offence count'] = sa_theft_df.loc[:,'Offence count'].astype(float)\n",
    "# GROUPING THEFT BY SUBURBS)\n",
    "suburb_df = sa_theft_df.groupby(['Suburb - Incident'])\n",
    "\n",
    "print(suburb_df)\n",
    "suburb_df.head()"
   ]
  },
  {
   "cell_type": "code",
   "execution_count": null,
   "metadata": {},
   "outputs": [],
   "source": [
    "# CALCULATING TOTAL THEFT PER SUBURB\n",
    "suburb_df['Offence count'].sum()"
   ]
  },
  {
   "cell_type": "code",
   "execution_count": null,
   "metadata": {},
   "outputs": [],
   "source": []
  }
 ]
}