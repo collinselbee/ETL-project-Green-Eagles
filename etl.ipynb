{
 "metadata": {
  "language_info": {
   "codemirror_mode": {
    "name": "ipython",
    "version": 3
   },
   "file_extension": ".py",
   "mimetype": "text/x-python",
   "name": "python",
   "nbconvert_exporter": "python",
   "pygments_lexer": "ipython3",
   "version": "3.8.5-final"
  },
  "orig_nbformat": 2,
  "kernelspec": {
   "name": "python3",
   "display_name": "Python 3.8.5 64-bit (conda)",
   "metadata": {
    "interpreter": {
     "hash": "05906fb634268bda8792aa40248e648de9f5f715d813eba93f5793438b333358"
    }
   }
  }
 },
 "nbformat": 4,
 "nbformat_minor": 2,
 "cells": [
  {
   "cell_type": "code",
   "execution_count": null,
   "metadata": {},
   "outputs": [],
   "source": [
    "import pandas as pd\n",
    "from sqlalchemy import create_engine"
   ]
  },
  {
   "cell_type": "code",
   "execution_count": 8,
   "metadata": {},
   "outputs": [
    {
     "output_type": "execute_result",
     "data": {
      "text/plain": [
       "  Reported Date Suburb - Incident Postcode - Incident  \\\n",
       "0     1/07/2010          ADELAIDE                5000   \n",
       "1     1/07/2010          ADELAIDE                5000   \n",
       "2     1/07/2010          ADELAIDE                5000   \n",
       "3     1/07/2010          ADELAIDE                5000   \n",
       "4     1/07/2010          ADELAIDE                5000   \n",
       "\n",
       "  Offence Level 1 Description           Offence Level 2 Description  \\\n",
       "0   OFFENCES AGAINST PROPERTY  FRAUD DECEPTION AND RELATED OFFENCES   \n",
       "1   OFFENCES AGAINST PROPERTY     PROPERTY DAMAGE AND ENVIRONMENTAL   \n",
       "2   OFFENCES AGAINST PROPERTY             SERIOUS CRIMINAL TRESPASS   \n",
       "3   OFFENCES AGAINST PROPERTY            THEFT AND RELATED OFFENCES   \n",
       "4   OFFENCES AGAINST PROPERTY            THEFT AND RELATED OFFENCES   \n",
       "\n",
       "               Offence Level 3 Description  Offence count  \n",
       "0              Obtain benefit by deception            2.0  \n",
       "1  Other property damage and environmental            2.0  \n",
       "2                      SCT - Non Residence            1.0  \n",
       "3                              Other theft            6.0  \n",
       "4                          Theft from shop            3.0  "
      ],
      "text/html": "<div>\n<style scoped>\n    .dataframe tbody tr th:only-of-type {\n        vertical-align: middle;\n    }\n\n    .dataframe tbody tr th {\n        vertical-align: top;\n    }\n\n    .dataframe thead th {\n        text-align: right;\n    }\n</style>\n<table border=\"1\" class=\"dataframe\">\n  <thead>\n    <tr style=\"text-align: right;\">\n      <th></th>\n      <th>Reported Date</th>\n      <th>Suburb - Incident</th>\n      <th>Postcode - Incident</th>\n      <th>Offence Level 1 Description</th>\n      <th>Offence Level 2 Description</th>\n      <th>Offence Level 3 Description</th>\n      <th>Offence count</th>\n    </tr>\n  </thead>\n  <tbody>\n    <tr>\n      <th>0</th>\n      <td>1/07/2010</td>\n      <td>ADELAIDE</td>\n      <td>5000</td>\n      <td>OFFENCES AGAINST PROPERTY</td>\n      <td>FRAUD DECEPTION AND RELATED OFFENCES</td>\n      <td>Obtain benefit by deception</td>\n      <td>2.0</td>\n    </tr>\n    <tr>\n      <th>1</th>\n      <td>1/07/2010</td>\n      <td>ADELAIDE</td>\n      <td>5000</td>\n      <td>OFFENCES AGAINST PROPERTY</td>\n      <td>PROPERTY DAMAGE AND ENVIRONMENTAL</td>\n      <td>Other property damage and environmental</td>\n      <td>2.0</td>\n    </tr>\n    <tr>\n      <th>2</th>\n      <td>1/07/2010</td>\n      <td>ADELAIDE</td>\n      <td>5000</td>\n      <td>OFFENCES AGAINST PROPERTY</td>\n      <td>SERIOUS CRIMINAL TRESPASS</td>\n      <td>SCT - Non Residence</td>\n      <td>1.0</td>\n    </tr>\n    <tr>\n      <th>3</th>\n      <td>1/07/2010</td>\n      <td>ADELAIDE</td>\n      <td>5000</td>\n      <td>OFFENCES AGAINST PROPERTY</td>\n      <td>THEFT AND RELATED OFFENCES</td>\n      <td>Other theft</td>\n      <td>6.0</td>\n    </tr>\n    <tr>\n      <th>4</th>\n      <td>1/07/2010</td>\n      <td>ADELAIDE</td>\n      <td>5000</td>\n      <td>OFFENCES AGAINST PROPERTY</td>\n      <td>THEFT AND RELATED OFFENCES</td>\n      <td>Theft from shop</td>\n      <td>3.0</td>\n    </tr>\n  </tbody>\n</table>\n</div>"
     },
     "metadata": {},
     "execution_count": 8
    }
   ],
   "source": [
    "# EXTRACT 2010 DATA\n",
    "sa_crime_2010 = \"Resources/2010-11-data_sa_crime.csv\"\n",
    "sa_crime_2010_df = pd.read_csv(sa_crime_2010)\n",
    "sa_crime_2010_df.head()"
   ]
  },
  {
   "cell_type": "code",
   "execution_count": 11,
   "metadata": {},
   "outputs": [
    {
     "output_type": "execute_result",
     "data": {
      "text/plain": [
       "  Reported Date Suburb - Incident Postcode - Incident  \\\n",
       "0     1/07/2011    ABERFOYLE PARK                5159   \n",
       "1     1/07/2011    ABERFOYLE PARK                5159   \n",
       "2     1/07/2011          ADELAIDE                5000   \n",
       "3     1/07/2011          ADELAIDE                5000   \n",
       "4     1/07/2011          ADELAIDE                5000   \n",
       "\n",
       "  Offence Level 1 Description           Offence Level 2 Description  \\\n",
       "0   OFFENCES AGAINST PROPERTY     PROPERTY DAMAGE AND ENVIRONMENTAL   \n",
       "1   OFFENCES AGAINST PROPERTY            THEFT AND RELATED OFFENCES   \n",
       "2   OFFENCES AGAINST PROPERTY  FRAUD DECEPTION AND RELATED OFFENCES   \n",
       "3   OFFENCES AGAINST PROPERTY     PROPERTY DAMAGE AND ENVIRONMENTAL   \n",
       "4   OFFENCES AGAINST PROPERTY            THEFT AND RELATED OFFENCES   \n",
       "\n",
       "               Offence Level 3 Description  Offence count  \n",
       "0  Other property damage and environmental              1  \n",
       "1      Receive or handle proceeds of crime              1  \n",
       "2              Obtain benefit by deception              2  \n",
       "3  Other property damage and environmental              4  \n",
       "4                              Other theft              7  "
      ],
      "text/html": "<div>\n<style scoped>\n    .dataframe tbody tr th:only-of-type {\n        vertical-align: middle;\n    }\n\n    .dataframe tbody tr th {\n        vertical-align: top;\n    }\n\n    .dataframe thead th {\n        text-align: right;\n    }\n</style>\n<table border=\"1\" class=\"dataframe\">\n  <thead>\n    <tr style=\"text-align: right;\">\n      <th></th>\n      <th>Reported Date</th>\n      <th>Suburb - Incident</th>\n      <th>Postcode - Incident</th>\n      <th>Offence Level 1 Description</th>\n      <th>Offence Level 2 Description</th>\n      <th>Offence Level 3 Description</th>\n      <th>Offence count</th>\n    </tr>\n  </thead>\n  <tbody>\n    <tr>\n      <th>0</th>\n      <td>1/07/2011</td>\n      <td>ABERFOYLE PARK</td>\n      <td>5159</td>\n      <td>OFFENCES AGAINST PROPERTY</td>\n      <td>PROPERTY DAMAGE AND ENVIRONMENTAL</td>\n      <td>Other property damage and environmental</td>\n      <td>1</td>\n    </tr>\n    <tr>\n      <th>1</th>\n      <td>1/07/2011</td>\n      <td>ABERFOYLE PARK</td>\n      <td>5159</td>\n      <td>OFFENCES AGAINST PROPERTY</td>\n      <td>THEFT AND RELATED OFFENCES</td>\n      <td>Receive or handle proceeds of crime</td>\n      <td>1</td>\n    </tr>\n    <tr>\n      <th>2</th>\n      <td>1/07/2011</td>\n      <td>ADELAIDE</td>\n      <td>5000</td>\n      <td>OFFENCES AGAINST PROPERTY</td>\n      <td>FRAUD DECEPTION AND RELATED OFFENCES</td>\n      <td>Obtain benefit by deception</td>\n      <td>2</td>\n    </tr>\n    <tr>\n      <th>3</th>\n      <td>1/07/2011</td>\n      <td>ADELAIDE</td>\n      <td>5000</td>\n      <td>OFFENCES AGAINST PROPERTY</td>\n      <td>PROPERTY DAMAGE AND ENVIRONMENTAL</td>\n      <td>Other property damage and environmental</td>\n      <td>4</td>\n    </tr>\n    <tr>\n      <th>4</th>\n      <td>1/07/2011</td>\n      <td>ADELAIDE</td>\n      <td>5000</td>\n      <td>OFFENCES AGAINST PROPERTY</td>\n      <td>THEFT AND RELATED OFFENCES</td>\n      <td>Other theft</td>\n      <td>7</td>\n    </tr>\n  </tbody>\n</table>\n</div>"
     },
     "metadata": {},
     "execution_count": 11
    }
   ],
   "source": [
    "# EXTRACT 2011 DATA\n",
    "\n",
    "sa_crime_2011 = \"Resources/2011-12-data_sa_crime.xlsx\"\n",
    "sa_crime_2011_df = pd.read_excel(sa_crime_2011)\n",
    "sa_crime_2011_df.head()"
   ]
  },
  {
   "cell_type": "code",
   "execution_count": 12,
   "metadata": {},
   "outputs": [
    {
     "output_type": "execute_result",
     "data": {
      "text/plain": [
       "  Reported Date Suburb - Incident Postcode - Incident  \\\n",
       "0     1/07/2010          ADELAIDE                5000   \n",
       "1     1/07/2010          ADELAIDE                5000   \n",
       "2     1/07/2010          ADELAIDE                5000   \n",
       "3     1/07/2010          ADELAIDE                5000   \n",
       "4     1/07/2010          ADELAIDE                5000   \n",
       "\n",
       "  Offence Level 1 Description           Offence Level 2 Description  \\\n",
       "0   OFFENCES AGAINST PROPERTY  FRAUD DECEPTION AND RELATED OFFENCES   \n",
       "1   OFFENCES AGAINST PROPERTY     PROPERTY DAMAGE AND ENVIRONMENTAL   \n",
       "2   OFFENCES AGAINST PROPERTY             SERIOUS CRIMINAL TRESPASS   \n",
       "3   OFFENCES AGAINST PROPERTY            THEFT AND RELATED OFFENCES   \n",
       "4   OFFENCES AGAINST PROPERTY            THEFT AND RELATED OFFENCES   \n",
       "\n",
       "               Offence Level 3 Description  Offence count  \n",
       "0              Obtain benefit by deception            2.0  \n",
       "1  Other property damage and environmental            2.0  \n",
       "2                      SCT - Non Residence            1.0  \n",
       "3                              Other theft            6.0  \n",
       "4                          Theft from shop            3.0  "
      ],
      "text/html": "<div>\n<style scoped>\n    .dataframe tbody tr th:only-of-type {\n        vertical-align: middle;\n    }\n\n    .dataframe tbody tr th {\n        vertical-align: top;\n    }\n\n    .dataframe thead th {\n        text-align: right;\n    }\n</style>\n<table border=\"1\" class=\"dataframe\">\n  <thead>\n    <tr style=\"text-align: right;\">\n      <th></th>\n      <th>Reported Date</th>\n      <th>Suburb - Incident</th>\n      <th>Postcode - Incident</th>\n      <th>Offence Level 1 Description</th>\n      <th>Offence Level 2 Description</th>\n      <th>Offence Level 3 Description</th>\n      <th>Offence count</th>\n    </tr>\n  </thead>\n  <tbody>\n    <tr>\n      <th>0</th>\n      <td>1/07/2010</td>\n      <td>ADELAIDE</td>\n      <td>5000</td>\n      <td>OFFENCES AGAINST PROPERTY</td>\n      <td>FRAUD DECEPTION AND RELATED OFFENCES</td>\n      <td>Obtain benefit by deception</td>\n      <td>2.0</td>\n    </tr>\n    <tr>\n      <th>1</th>\n      <td>1/07/2010</td>\n      <td>ADELAIDE</td>\n      <td>5000</td>\n      <td>OFFENCES AGAINST PROPERTY</td>\n      <td>PROPERTY DAMAGE AND ENVIRONMENTAL</td>\n      <td>Other property damage and environmental</td>\n      <td>2.0</td>\n    </tr>\n    <tr>\n      <th>2</th>\n      <td>1/07/2010</td>\n      <td>ADELAIDE</td>\n      <td>5000</td>\n      <td>OFFENCES AGAINST PROPERTY</td>\n      <td>SERIOUS CRIMINAL TRESPASS</td>\n      <td>SCT - Non Residence</td>\n      <td>1.0</td>\n    </tr>\n    <tr>\n      <th>3</th>\n      <td>1/07/2010</td>\n      <td>ADELAIDE</td>\n      <td>5000</td>\n      <td>OFFENCES AGAINST PROPERTY</td>\n      <td>THEFT AND RELATED OFFENCES</td>\n      <td>Other theft</td>\n      <td>6.0</td>\n    </tr>\n    <tr>\n      <th>4</th>\n      <td>1/07/2010</td>\n      <td>ADELAIDE</td>\n      <td>5000</td>\n      <td>OFFENCES AGAINST PROPERTY</td>\n      <td>THEFT AND RELATED OFFENCES</td>\n      <td>Theft from shop</td>\n      <td>3.0</td>\n    </tr>\n  </tbody>\n</table>\n</div>"
     },
     "metadata": {},
     "execution_count": 12
    }
   ],
   "source": [
    "sa_crime_2012 = \"Resources/2012-13-data_sa_crime.csv\"\n",
    "sa_crime_2012_df = pd.read_csv(sa_crime_2012)\n",
    "sa_crime_2010_df.head()"
   ]
  },
  {
   "cell_type": "code",
   "execution_count": 14,
   "metadata": {},
   "outputs": [
    {
     "output_type": "execute_result",
     "data": {
      "text/plain": [
       "  Reported Date Suburb - Incident Postcode - Incident  \\\n",
       "0     1/07/2010          ADELAIDE                5000   \n",
       "1     1/07/2010          ADELAIDE                5000   \n",
       "2     1/07/2010          ADELAIDE                5000   \n",
       "3     1/07/2010          ADELAIDE                5000   \n",
       "4     1/07/2010          ADELAIDE                5000   \n",
       "\n",
       "  Offence Level 1 Description           Offence Level 2 Description  \\\n",
       "0   OFFENCES AGAINST PROPERTY  FRAUD DECEPTION AND RELATED OFFENCES   \n",
       "1   OFFENCES AGAINST PROPERTY     PROPERTY DAMAGE AND ENVIRONMENTAL   \n",
       "2   OFFENCES AGAINST PROPERTY             SERIOUS CRIMINAL TRESPASS   \n",
       "3   OFFENCES AGAINST PROPERTY            THEFT AND RELATED OFFENCES   \n",
       "4   OFFENCES AGAINST PROPERTY            THEFT AND RELATED OFFENCES   \n",
       "\n",
       "               Offence Level 3 Description  Offence count  \n",
       "0              Obtain benefit by deception            2.0  \n",
       "1  Other property damage and environmental            2.0  \n",
       "2                      SCT - Non Residence            1.0  \n",
       "3                              Other theft            6.0  \n",
       "4                          Theft from shop            3.0  "
      ],
      "text/html": "<div>\n<style scoped>\n    .dataframe tbody tr th:only-of-type {\n        vertical-align: middle;\n    }\n\n    .dataframe tbody tr th {\n        vertical-align: top;\n    }\n\n    .dataframe thead th {\n        text-align: right;\n    }\n</style>\n<table border=\"1\" class=\"dataframe\">\n  <thead>\n    <tr style=\"text-align: right;\">\n      <th></th>\n      <th>Reported Date</th>\n      <th>Suburb - Incident</th>\n      <th>Postcode - Incident</th>\n      <th>Offence Level 1 Description</th>\n      <th>Offence Level 2 Description</th>\n      <th>Offence Level 3 Description</th>\n      <th>Offence count</th>\n    </tr>\n  </thead>\n  <tbody>\n    <tr>\n      <th>0</th>\n      <td>1/07/2010</td>\n      <td>ADELAIDE</td>\n      <td>5000</td>\n      <td>OFFENCES AGAINST PROPERTY</td>\n      <td>FRAUD DECEPTION AND RELATED OFFENCES</td>\n      <td>Obtain benefit by deception</td>\n      <td>2.0</td>\n    </tr>\n    <tr>\n      <th>1</th>\n      <td>1/07/2010</td>\n      <td>ADELAIDE</td>\n      <td>5000</td>\n      <td>OFFENCES AGAINST PROPERTY</td>\n      <td>PROPERTY DAMAGE AND ENVIRONMENTAL</td>\n      <td>Other property damage and environmental</td>\n      <td>2.0</td>\n    </tr>\n    <tr>\n      <th>2</th>\n      <td>1/07/2010</td>\n      <td>ADELAIDE</td>\n      <td>5000</td>\n      <td>OFFENCES AGAINST PROPERTY</td>\n      <td>SERIOUS CRIMINAL TRESPASS</td>\n      <td>SCT - Non Residence</td>\n      <td>1.0</td>\n    </tr>\n    <tr>\n      <th>3</th>\n      <td>1/07/2010</td>\n      <td>ADELAIDE</td>\n      <td>5000</td>\n      <td>OFFENCES AGAINST PROPERTY</td>\n      <td>THEFT AND RELATED OFFENCES</td>\n      <td>Other theft</td>\n      <td>6.0</td>\n    </tr>\n    <tr>\n      <th>4</th>\n      <td>1/07/2010</td>\n      <td>ADELAIDE</td>\n      <td>5000</td>\n      <td>OFFENCES AGAINST PROPERTY</td>\n      <td>THEFT AND RELATED OFFENCES</td>\n      <td>Theft from shop</td>\n      <td>3.0</td>\n    </tr>\n  </tbody>\n</table>\n</div>"
     },
     "metadata": {},
     "execution_count": 14
    }
   ],
   "source": [
    "# TRANSFORMING THE DATA\n",
    "# JOIN DATA FOR 2010,2011 AND 2013 TOGETHER\n",
    "frames = [sa_crime_2010_df,sa_crime_2011_df,sa_crime_2012_df]\n",
    "sa_crime_df = pd.concat(frames)\n",
    "sa_crime_df.head()"
   ]
  },
  {
   "cell_type": "code",
   "execution_count": 16,
   "metadata": {},
   "outputs": [
    {
     "output_type": "execute_result",
     "data": {
      "text/plain": [
       "       Suburb - Incident           Offence Level 2 Description  Offence count\n",
       "0               ADELAIDE  FRAUD DECEPTION AND RELATED OFFENCES            2.0\n",
       "1               ADELAIDE     PROPERTY DAMAGE AND ENVIRONMENTAL            2.0\n",
       "2               ADELAIDE             SERIOUS CRIMINAL TRESPASS            1.0\n",
       "3               ADELAIDE            THEFT AND RELATED OFFENCES            6.0\n",
       "4               ADELAIDE            THEFT AND RELATED OFFENCES            3.0\n",
       "...                  ...                                   ...            ...\n",
       "96398  WOODVILLE GARDENS             SERIOUS CRIMINAL TRESPASS            1.0\n",
       "96399  WOODVILLE GARDENS            THEFT AND RELATED OFFENCES            1.0\n",
       "96400  WOODVILLE GARDENS            THEFT AND RELATED OFFENCES            1.0\n",
       "96401     WOODVILLE PARK            THEFT AND RELATED OFFENCES            1.0\n",
       "96402     WOODVILLE WEST     PROPERTY DAMAGE AND ENVIRONMENTAL            2.0\n",
       "\n",
       "[301413 rows x 3 columns]"
      ],
      "text/html": "<div>\n<style scoped>\n    .dataframe tbody tr th:only-of-type {\n        vertical-align: middle;\n    }\n\n    .dataframe tbody tr th {\n        vertical-align: top;\n    }\n\n    .dataframe thead th {\n        text-align: right;\n    }\n</style>\n<table border=\"1\" class=\"dataframe\">\n  <thead>\n    <tr style=\"text-align: right;\">\n      <th></th>\n      <th>Suburb - Incident</th>\n      <th>Offence Level 2 Description</th>\n      <th>Offence count</th>\n    </tr>\n  </thead>\n  <tbody>\n    <tr>\n      <th>0</th>\n      <td>ADELAIDE</td>\n      <td>FRAUD DECEPTION AND RELATED OFFENCES</td>\n      <td>2.0</td>\n    </tr>\n    <tr>\n      <th>1</th>\n      <td>ADELAIDE</td>\n      <td>PROPERTY DAMAGE AND ENVIRONMENTAL</td>\n      <td>2.0</td>\n    </tr>\n    <tr>\n      <th>2</th>\n      <td>ADELAIDE</td>\n      <td>SERIOUS CRIMINAL TRESPASS</td>\n      <td>1.0</td>\n    </tr>\n    <tr>\n      <th>3</th>\n      <td>ADELAIDE</td>\n      <td>THEFT AND RELATED OFFENCES</td>\n      <td>6.0</td>\n    </tr>\n    <tr>\n      <th>4</th>\n      <td>ADELAIDE</td>\n      <td>THEFT AND RELATED OFFENCES</td>\n      <td>3.0</td>\n    </tr>\n    <tr>\n      <th>...</th>\n      <td>...</td>\n      <td>...</td>\n      <td>...</td>\n    </tr>\n    <tr>\n      <th>96398</th>\n      <td>WOODVILLE GARDENS</td>\n      <td>SERIOUS CRIMINAL TRESPASS</td>\n      <td>1.0</td>\n    </tr>\n    <tr>\n      <th>96399</th>\n      <td>WOODVILLE GARDENS</td>\n      <td>THEFT AND RELATED OFFENCES</td>\n      <td>1.0</td>\n    </tr>\n    <tr>\n      <th>96400</th>\n      <td>WOODVILLE GARDENS</td>\n      <td>THEFT AND RELATED OFFENCES</td>\n      <td>1.0</td>\n    </tr>\n    <tr>\n      <th>96401</th>\n      <td>WOODVILLE PARK</td>\n      <td>THEFT AND RELATED OFFENCES</td>\n      <td>1.0</td>\n    </tr>\n    <tr>\n      <th>96402</th>\n      <td>WOODVILLE WEST</td>\n      <td>PROPERTY DAMAGE AND ENVIRONMENTAL</td>\n      <td>2.0</td>\n    </tr>\n  </tbody>\n</table>\n<p>301413 rows × 3 columns</p>\n</div>"
     },
     "metadata": {},
     "execution_count": 16
    }
   ],
   "source": [
    "# NARROW DOWN TO THE COLUMNS IAM INTRESTED IN\n",
    "\n",
    "sa_crime_df = sa_crime_df[['Suburb - Incident','Offence Level 2 Description','Offence count']].copy()\n",
    "\n",
    "sa_crime_df\n",
    "\n",
    "# DROP ROWS WITH NULL VALUES\n",
    "\n",
    "sa_crime_df = sa_crime_df.dropna()\n",
    "\n",
    "sa_crime_df"
   ]
  },
  {
   "cell_type": "code",
   "execution_count": 17,
   "metadata": {},
   "outputs": [
    {
     "output_type": "execute_result",
     "data": {
      "text/plain": [
       "       Suburb - Incident Offence Level 2 Description  Offence count\n",
       "3               ADELAIDE  THEFT AND RELATED OFFENCES            6.0\n",
       "4               ADELAIDE  THEFT AND RELATED OFFENCES            3.0\n",
       "7                ALDGATE  THEFT AND RELATED OFFENCES            1.0\n",
       "8                 ALFORD  THEFT AND RELATED OFFENCES            1.0\n",
       "19           BLAIR ATHOL  THEFT AND RELATED OFFENCES            1.0\n",
       "...                  ...                         ...            ...\n",
       "96391   WHYALLA PLAYFORD  THEFT AND RELATED OFFENCES            1.0\n",
       "96396          WILLASTON  THEFT AND RELATED OFFENCES            1.0\n",
       "96399  WOODVILLE GARDENS  THEFT AND RELATED OFFENCES            1.0\n",
       "96400  WOODVILLE GARDENS  THEFT AND RELATED OFFENCES            1.0\n",
       "96401     WOODVILLE PARK  THEFT AND RELATED OFFENCES            1.0\n",
       "\n",
       "[110169 rows x 3 columns]"
      ],
      "text/html": "<div>\n<style scoped>\n    .dataframe tbody tr th:only-of-type {\n        vertical-align: middle;\n    }\n\n    .dataframe tbody tr th {\n        vertical-align: top;\n    }\n\n    .dataframe thead th {\n        text-align: right;\n    }\n</style>\n<table border=\"1\" class=\"dataframe\">\n  <thead>\n    <tr style=\"text-align: right;\">\n      <th></th>\n      <th>Suburb - Incident</th>\n      <th>Offence Level 2 Description</th>\n      <th>Offence count</th>\n    </tr>\n  </thead>\n  <tbody>\n    <tr>\n      <th>3</th>\n      <td>ADELAIDE</td>\n      <td>THEFT AND RELATED OFFENCES</td>\n      <td>6.0</td>\n    </tr>\n    <tr>\n      <th>4</th>\n      <td>ADELAIDE</td>\n      <td>THEFT AND RELATED OFFENCES</td>\n      <td>3.0</td>\n    </tr>\n    <tr>\n      <th>7</th>\n      <td>ALDGATE</td>\n      <td>THEFT AND RELATED OFFENCES</td>\n      <td>1.0</td>\n    </tr>\n    <tr>\n      <th>8</th>\n      <td>ALFORD</td>\n      <td>THEFT AND RELATED OFFENCES</td>\n      <td>1.0</td>\n    </tr>\n    <tr>\n      <th>19</th>\n      <td>BLAIR ATHOL</td>\n      <td>THEFT AND RELATED OFFENCES</td>\n      <td>1.0</td>\n    </tr>\n    <tr>\n      <th>...</th>\n      <td>...</td>\n      <td>...</td>\n      <td>...</td>\n    </tr>\n    <tr>\n      <th>96391</th>\n      <td>WHYALLA PLAYFORD</td>\n      <td>THEFT AND RELATED OFFENCES</td>\n      <td>1.0</td>\n    </tr>\n    <tr>\n      <th>96396</th>\n      <td>WILLASTON</td>\n      <td>THEFT AND RELATED OFFENCES</td>\n      <td>1.0</td>\n    </tr>\n    <tr>\n      <th>96399</th>\n      <td>WOODVILLE GARDENS</td>\n      <td>THEFT AND RELATED OFFENCES</td>\n      <td>1.0</td>\n    </tr>\n    <tr>\n      <th>96400</th>\n      <td>WOODVILLE GARDENS</td>\n      <td>THEFT AND RELATED OFFENCES</td>\n      <td>1.0</td>\n    </tr>\n    <tr>\n      <th>96401</th>\n      <td>WOODVILLE PARK</td>\n      <td>THEFT AND RELATED OFFENCES</td>\n      <td>1.0</td>\n    </tr>\n  </tbody>\n</table>\n<p>110169 rows × 3 columns</p>\n</div>"
     },
     "metadata": {},
     "execution_count": 17
    }
   ],
   "source": [
    "# NARROW THE DATA TO 'Theft and related offences\"\n",
    "\n",
    "sa_theft_df = sa_crime_df.loc[sa_crime_df['Offence Level 2 Description']== 'THEFT AND RELATED OFFENCES',:]\n",
    "\n",
    "sa_theft_df"
   ]
  },
  {
   "cell_type": "code",
   "execution_count": 20,
   "metadata": {},
   "outputs": [
    {
     "output_type": "stream",
     "name": "stdout",
     "text": [
      "<pandas.core.groupby.generic.DataFrameGroupBy object at 0x000001E70ACCE310>\n"
     ]
    }
   ],
   "source": [
    "# CONVERTING THE 'offence count' TO NUMERIC\n",
    "\n",
    "sa_theft_df['Offence count'] = sa_theft_df.loc[:,'Offence count'].astype(float)\n",
    "# GROUPING THEFT BY SUBURBS)\n",
    "suburb_df = sa_theft_df.groupby(['Suburb - Incident'])\n",
    "\n",
    "print(surbub_df)"
   ]
  },
  {
   "cell_type": "code",
   "execution_count": 21,
   "metadata": {},
   "outputs": [
    {
     "output_type": "execute_result",
     "data": {
      "text/plain": [
       "Suburb - Incident\n",
       "ABERFOYLE PARK       458.0\n",
       "ADDRESS UNKNOWN        1.0\n",
       "ADELAIDE            9127.0\n",
       "ADELAIDE AIRPORT     322.0\n",
       "AGERY                  2.0\n",
       "                     ...  \n",
       "YOUNGHUSBAND           3.0\n",
       "YUMALI                 5.0\n",
       "YUNDI                 10.0\n",
       "YUNTA                 18.0\n",
       "ZADOWS LANDING         1.0\n",
       "Name: Offence count, Length: 1168, dtype: float64"
      ]
     },
     "metadata": {},
     "execution_count": 21
    }
   ],
   "source": [
    "# CALCULATING TOTAL THEFT PER SUBURB\n",
    "suburb_df['Offence count'].sum()"
   ]
  },
  {
   "cell_type": "code",
   "execution_count": null,
   "metadata": {},
   "outputs": [],
   "source": []
  }
 ]
}